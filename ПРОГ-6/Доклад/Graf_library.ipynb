{
 "cells": [
  {
   "attachments": {},
   "cell_type": "markdown",
   "metadata": {},
   "source": [
    "## Создание десктопных-приложений с графическим интерфейсом на Python"
   ]
  },
  {
   "attachments": {},
   "cell_type": "markdown",
   "metadata": {},
   "source": [
    "Выполнели: Тихонова Э.К. & Лебедев Д.С.\n",
    "\n",
    "---"
   ]
  },
  {
   "attachments": {},
   "cell_type": "markdown",
   "metadata": {},
   "source": [
    "### PyQt"
   ]
  },
  {
   "attachments": {},
   "cell_type": "markdown",
   "metadata": {},
   "source": [
    "PyQT - одна из самых популярных библиотек GUI для Python. Она представляет широкий набор функций и инструментов для создания мощных и профессиональных GUI-приложений."
   ]
  },
  {
   "attachments": {},
   "cell_type": "markdown",
   "metadata": {},
   "source": [
    "Для начала необходимо установить PyQt через менеджер пакетов pip:"
   ]
  },
  {
   "attachments": {},
   "cell_type": "markdown",
   "metadata": {},
   "source": [
    "`pip install PyQt6`"
   ]
  },
  {
   "attachments": {},
   "cell_type": "markdown",
   "metadata": {},
   "source": [
    "Для проверки установлена ли библиотека PyQt5 на компьютере, запустив интерпретатор Python в терминале и импортировав модуль PyQt:\n",
    "\n",
    "1. Открыть терминал на вашем компьютере.\n",
    "\n",
    "2. Ввести команду python3 для запуска интерпретатора Python версии 3.\n",
    "\n",
    "3. В интерпретаторе Python ввести следующую команду: "
   ]
  },
  {
   "attachments": {},
   "cell_type": "markdown",
   "metadata": {},
   "source": [
    "```python\n",
    "import PyQt6\n",
    "```"
   ]
  },
  {
   "attachments": {},
   "cell_type": "markdown",
   "metadata": {},
   "source": [
    "4. Если библиотека PyQt6 была установлена успешно, то не будет никаких ошибок или предупреждений при выполнении этой команды."
   ]
  },
  {
   "attachments": {},
   "cell_type": "markdown",
   "metadata": {},
   "source": [
    "В дополнение можно установить еще дополнительный набор инструментов для разработки графических интерфейсов PyQt с использованием Qt Designer."
   ]
  },
  {
   "attachments": {},
   "cell_type": "markdown",
   "metadata": {},
   "source": [
    "`pip install pyqt-tools`"
   ]
  },
  {
   "attachments": {},
   "cell_type": "markdown",
   "metadata": {},
   "source": [
    "Структура базового приложения включает в себя следующие элементы:\n",
    "\n",
    "1. Главное окно\n",
    "\n",
    "2. Виджеты\n",
    "\n",
    "3. События и обработчики событий"
   ]
  },
  {
   "attachments": {},
   "cell_type": "markdown",
   "metadata": {},
   "source": [
    "##### Пример создания окна с кнопкой:"
   ]
  },
  {
   "cell_type": "code",
   "execution_count": null,
   "metadata": {},
   "outputs": [],
   "source": [
    "import sys\n",
    "from PyQt6.QtWidgets import QApplication, QWidget, QPushButton\n",
    "\n",
    "class MyWindow(QWidget):\n",
    "    def __init__(self):\n",
    "        super().__init__()\n",
    "\n",
    "        self.setWindowTitle('Window')\n",
    "        self.setGeometry(100, 100, 300, 200)\n",
    "\n",
    "        button = QPushButton('Нажми на меня!', self)\n",
    "        button.move(100, 100)\n",
    "        button.clicked.connect(self.on_button_click)\n",
    "\n",
    "    def on_button_click(self):\n",
    "        print('Кнопка нажата')\n",
    "\n",
    "if __name__ == '__main__':\n",
    "    app = QApplication(sys.argv)\n",
    "    window = MyWindow()\n",
    "    window.show()\n",
    "    sys.exit(app.exec())"
   ]
  },
  {
   "attachments": {},
   "cell_type": "markdown",
   "metadata": {},
   "source": [
    "#### Что такое «цикл событий»?"
   ]
  },
  {
   "attachments": {},
   "cell_type": "markdown",
   "metadata": {},
   "source": [
    "Основной элемент всех приложений в Qt — класс QApplication. Для работы каждому приложению нужен объект QApplication, который содержит цикл событий приложения. Это основной цикл, управляющий всем взаимодействием пользователя с графическим интерфейсом."
   ]
  },
  {
   "attachments": {},
   "cell_type": "markdown",
   "metadata": {},
   "source": [
    "### Tkinter"
   ]
  },
  {
   "attachments": {},
   "cell_type": "markdown",
   "metadata": {},
   "source": [
    "Стандартная библиотека GUI для Python. Она широко используется, и поставляется в комплекте с Python."
   ]
  },
  {
   "attachments": {},
   "cell_type": "markdown",
   "metadata": {},
   "source": [
    "Если необходимо или интересно узнать версию библиотеки Tk, которая будет использоваться, в интерпертаторе Python можно выполнить следующую инструкцию:\n",
    "\n",
    "1. Открыть терминал на вашем компьютере.\n",
    "\n",
    "2. Ввести команду python3 для запуска интерпретатора Python версии 3.\n",
    "\n",
    "3. В интерпретаторе Python ввести следующую команду: "
   ]
  },
  {
   "attachments": {},
   "cell_type": "markdown",
   "metadata": {},
   "source": [
    "```python\n",
    "import tkinter\n",
    "```"
   ]
  },
  {
   "attachments": {},
   "cell_type": "markdown",
   "metadata": {},
   "source": [
    "4. Если tkinter установлена успешно, то не будет никаких ошибок или предупреждений при выполнении этой команды.\n",
    "\n",
    "5. Ввести команду"
   ]
  },
  {
   "attachments": {},
   "cell_type": "markdown",
   "metadata": {},
   "source": [
    "```python\n",
    "tkinter.Tcl().eval(\"info patchlevel\")\n",
    "```"
   ]
  },
  {
   "attachments": {},
   "cell_type": "markdown",
   "metadata": {},
   "source": [
    "И терминал выведет актуальную версию библиотеки"
   ]
  },
  {
   "attachments": {},
   "cell_type": "markdown",
   "metadata": {},
   "source": [
    "##### Пример программы вывода кноки с обработкой события"
   ]
  },
  {
   "cell_type": "code",
   "execution_count": null,
   "metadata": {},
   "outputs": [],
   "source": [
    "import tkinter as tk\n",
    "\n",
    "class MyWindow(tk.Tk):\n",
    "    def __init__(self):\n",
    "        super().__init__()\n",
    "\n",
    "        self.title('Window')\n",
    "        self.geometry('300x200')\n",
    "\n",
    "        button = tk.Button(self, text='Нажми на меня!')\n",
    "        button.place(x=100, y=100)\n",
    "        button.config(command=self.on_button_click)\n",
    "\n",
    "    def on_button_click(self):\n",
    "        print('Кнопка нажата')\n",
    "\n",
    "if __name__ == '__main__':\n",
    "    window = MyWindow()\n",
    "    window.mainloop()"
   ]
  },
  {
   "attachments": {},
   "cell_type": "markdown",
   "metadata": {},
   "source": [
    "* Однако, если вы работаете в среде разработки, которая не имеет встроенной поддержки tkinter (например, если вы используете PyCharm), то вам может потребоваться установить пакет:"
   ]
  },
  {
   "attachments": {},
   "cell_type": "markdown",
   "metadata": {},
   "source": [
    "```python\n",
    "sudo apt-get install python3-tk\n",
    "```"
   ]
  },
  {
   "attachments": {},
   "cell_type": "markdown",
   "metadata": {},
   "source": [
    "### Kivy"
   ]
  },
  {
   "attachments": {},
   "cell_type": "markdown",
   "metadata": {},
   "source": [
    "Данная библиотека, которая используется для создания мультимедийных GUI-приложений."
   ]
  },
  {
   "attachments": {},
   "cell_type": "markdown",
   "metadata": {},
   "source": [
    "Для начала необходимо установить Kivy через менеджер пакетов pip:"
   ]
  },
  {
   "attachments": {},
   "cell_type": "markdown",
   "metadata": {},
   "source": [
    "`pip install kivy`"
   ]
  },
  {
   "attachments": {},
   "cell_type": "markdown",
   "metadata": {},
   "source": [
    "#### Пример программы с использованием библиотеки Kivy"
   ]
  },
  {
   "cell_type": "code",
   "execution_count": null,
   "metadata": {},
   "outputs": [],
   "source": [
    "import kivy\n",
    "kivy.require('2.1.0')\n",
    "\n",
    "from kivy.app import App\n",
    "from kivy.uix.label import Label\n",
    "\n",
    "\n",
    "class MyApp(App):\n",
    "\n",
    "    def build(self):\n",
    "        return Label(text='Hello world')\n",
    "\n",
    "\n",
    "if __name__ == '__main__':\n",
    "    MyApp().run()"
   ]
  },
  {
   "cell_type": "code",
   "execution_count": null,
   "metadata": {},
   "outputs": [],
   "source": [
    "from kivy.app import App\n",
    "from kivy.uix.gridlayout import GridLayout\n",
    "from kivy.uix.label import Label\n",
    "from kivy.uix.textinput import TextInput\n",
    "\n",
    "class LoginScreen(GridLayout):\n",
    "\n",
    "    def __init__(self, **kwargs):\n",
    "        super(LoginScreen, self).__init__(**kwargs)\n",
    "        self.cols = 2\n",
    "        self.add_widget(Label(text='User Name'))\n",
    "        self.username = TextInput(multiline=False)\n",
    "        self.add_widget(self.username)\n",
    "        self.add_widget(Label(text='password'))\n",
    "        self.password = TextInput(password=True, multiline=False)\n",
    "        self.add_widget(self.password)\n",
    "\n",
    "class MyApp(App):\n",
    "    def build(self):\n",
    "        return LoginScreen()\n",
    "if __name__ == '__main__':\n",
    "    MyApp().run()"
   ]
  },
  {
   "attachments": {},
   "cell_type": "markdown",
   "metadata": {},
   "source": [
    "До:"
   ]
  },
  {
   "cell_type": "code",
   "execution_count": null,
   "metadata": {},
   "outputs": [],
   "source": [
    "class MyClass(object):\n",
    "    def __init__(self):\n",
    "        super(MyClass, self).__init__()\n",
    "        self.numeric_var = 1"
   ]
  },
  {
   "attachments": {},
   "cell_type": "markdown",
   "metadata": {},
   "source": [
    "После:"
   ]
  },
  {
   "cell_type": "code",
   "execution_count": null,
   "metadata": {},
   "outputs": [],
   "source": [
    "class MyClass(EventDispatcher):\n",
    "    numeric_var = NumericProperty(1)"
   ]
  },
  {
   "cell_type": "code",
   "execution_count": null,
   "metadata": {},
   "outputs": [],
   "source": [
    "from kivy.app import App\n",
    "from kivy.uix.button import Button\n",
    "from kivy.properties import NumericProperty\n",
    "from kivy.event import EventDispatcher\n",
    "\n",
    "\n",
    "class MyClass(EventDispatcher):\n",
    "    numeric_var = NumericProperty(1)\n",
    "\n",
    "\n",
    "class MyKivyApp(App):\n",
    "\n",
    "    def __init__(self, **kwargs):\n",
    "        super().__init__(**kwargs)\n",
    "        self.my_class_obj = MyClass()\n",
    "\n",
    "    def on_button_click(self, *args):\n",
    "        self.my_class_obj.numeric_var += 1\n",
    "\n",
    "    def build(self):\n",
    "        my_button = Button(text=\"Нажми на меня\",\n",
    "                           on_press=self.on_button_click)\n",
    "        return my_button\n",
    "\n",
    "\n",
    "if __name__ == '__main__':\n",
    "    MyKivyApp().run()"
   ]
  },
  {
   "attachments": {},
   "cell_type": "markdown",
   "metadata": {},
   "source": [
    "#### Сборка исполняемого приложение с использованием библиотеки Kivy"
   ]
  },
  {
   "attachments": {},
   "cell_type": "markdown",
   "metadata": {},
   "source": [
    "1. Установка зависимостей\n",
    "\n",
    "```python\n",
    "brew install python3\n",
    "sudo easy_install pip\n",
    "```\n",
    "2. Установка Kivy\n",
    "\n",
    "```python\n",
    "pip3 install kivy[base] kivy_examples\n",
    "```\n",
    "3. Создание нового проекта\n",
    "\n",
    "```python\n",
    "mkdir game\n",
    "cd game\n",
    "```\n",
    "4. Создать файл yourfile.py и открыть его в любом редакторе кода:\n",
    "\n",
    "```python\n",
    "touch game.py\n",
    "nano game.py\n",
    "```\n",
    "\n",
    "5. Написание кода приложения\n",
    "\n",
    "6. Запуск приложения\n",
    "```python\n",
    "python3 game.py\n",
    "```\n",
    "\n",
    "7. Сборка приложения\n",
    "\n",
    "```python\n",
    "pyinstaller --name game game.py\n",
    "```\n",
    "\n",
    "8. Тестирование приложения\n",
    "\n",
    "```python\n",
    "cd dist/game\n",
    "./game\n",
    "```\n"
   ]
  },
  {
   "attachments": {},
   "cell_type": "markdown",
   "metadata": {},
   "source": [
    "## Вывод"
   ]
  },
  {
   "attachments": {},
   "cell_type": "markdown",
   "metadata": {},
   "source": [
    "При использовании различных графических пакетов, таких как PyQt, Kivy или TKinter, некоторые вещи могут быть схожими, но у каждого из этих пакетов есть свои уникальные особенности и спецификации.\n",
    "\n",
    "В целом, при работе с любым графическим пакетом нужно учитывать его особенности и принципы работы, чтобы создавать качественный и функциональный интерфейс, который будет работать правильно на разных операционных системах."
   ]
  },
  {
   "attachments": {},
   "cell_type": "markdown",
   "metadata": {},
   "source": [
    "### Используемые источники"
   ]
  },
  {
   "attachments": {},
   "cell_type": "markdown",
   "metadata": {},
   "source": [
    "- Документация tkinter - https://metanit.com/python/tkinter/1.1.php\n",
    "- Документация Kivy – https://kivy.org/doc/stable/\n",
    "- шаблон Observer - http://en.wikipedia.org/wiki/Observer_pattern"
   ]
  }
 ],
 "metadata": {
  "kernelspec": {
   "display_name": "Python 3",
   "language": "python",
   "name": "python3"
  },
  "language_info": {
   "codemirror_mode": {
    "name": "ipython",
    "version": 3
   },
   "file_extension": ".py",
   "mimetype": "text/x-python",
   "name": "python",
   "nbconvert_exporter": "python",
   "pygments_lexer": "ipython3",
   "version": "3.11.3"
  },
  "orig_nbformat": 4
 },
 "nbformat": 4,
 "nbformat_minor": 2
}
